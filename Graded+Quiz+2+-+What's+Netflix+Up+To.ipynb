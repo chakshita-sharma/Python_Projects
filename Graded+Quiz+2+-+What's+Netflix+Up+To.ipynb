{
 "cells": [
  {
   "cell_type": "markdown",
   "metadata": {},
   "source": [
    "The `netflix` dictionary contains a list of 100 titles along with their total number of views in the past. Based on the keys and values provided in this dictionary, answer the questions given below."
   ]
  },
  {
   "cell_type": "code",
   "execution_count": 1,
   "metadata": {},
   "outputs": [],
   "source": [
    "netflix = {'The Debt Collector': 1821195, 'Act of Vengeance': 2804479, 'Paradise Lost': 2195477, \"Gerald's Game\": 3650626, 'Long Shot': 638440, 'Mak Cun': 1010311, 'Our Souls at Night': 3028705, 'Out of Thin Air': 2681938, \"Paul Hollywood's Big Continental Road Trip\": 230689, 'Satu Hari': 1012350, 'Monster High: Boo York, Boo York': 1526025, 'Cultivating the Seas: History and Future of the Full-Cycle Cultured Kindai Tuna': 2762103, 'Domino': 872663, 'TUNA GIRL': 2574816, '5CM': 2647713, 'Animal World': 220789, 'Hold the Dark': 2307432, 'Lessons from a School Shooting: Notes from Dunblane': 2419534, 'Made in Mexico': 3653712, 'Single': 239278, 'The 3rd Eye': 196138, 'The Sinking Of Van Der Wijck': 2831856, 'Two Catalonias': 1337119, 'Bobby Sands: 66 Days': 2005623, 'Bard of Blood': 744998, 'Deliha 2': 3638900, 'Dragons: Rescue Riders': 3241239, 'In the Shadow of the Moon': 1213329, 'Skylines': 1840094, 'Sturgill Simpson Presents Sound & Fury': 1915540, 'The Politician': 1019394, 'Weeds on Fire': 2273090, 'Much Loved': 3039852, 'Joseph: King of Dreams': 1734449, 'Malaal': 1926128, 'The Grandmaster': 2549410, 'The Inmate': 130965, 'The Hurricane Heist': 2191538, 'Def Comedy Jam 25': 1392697, 'Restless Creature: Wendy Whelan': 2474412, 'Print the Legend': 548250, 'Birders': 3478883, 'Furie': 2755115, 'Leap!': 1401638, 'Oh! Baby (Malayalam)': 839139, 'Oh! Baby (Tamil)': 2691505, 'USS Indianapolis: Men of Courage': 3286014, 'A Wrinkle in Time': 1258861, 'Teach Us All': 2428947, 'White Island': 1152905, 'Inside Man: Most Wanted': 2812661, 'Jeff Dunham: Beside Himself': 2930368, 'China Salesman': 3377292, 'Swearnet: The Movie': 949689, 'The Bar': 620655, 'Manmadhudu 2': 1842761, 'Team Kaylie': 359856, 'Under the Eiffel Tower': 2298237, 'Audrie & Daisy': 1573055, 'Iliza Shlesinger: Confirmed Kills': 365220, 'BONDING': 1664242, 'Do Paise Ki Dhoop Chaar Aane Ki Baarish': 2770879, '20 Feet From Stardom': 2931730, 'In Darkness': 3248749, 'Gaga: Five Foot Two': 3719550, 'The Bad Batch': 3656264, 'SMOSH: The Movie': 3697506, 'King of Boys': 584112, 'Merry Men: The Real Yoruba Demons': 2035595, \"Sarah's Key\": 1337902, 'The Wedding Party 2: Destination Dubai': 1471204, 'Vagabond': 1600432, 'Battlefish': 723021, 'DRAGON PILOT: Hisone & Masotan': 602919, 'Hilda': 54948, 'Maniac': 1348196, 'Quincy': 2601704, 'Rafinha Bastos: Ultimatum': 3469996, 'The Good Cop': 2265521, 'Between Two Ferns: The Movie': 3146508, 'Criminal: France': 2021409, 'Criminal: Germany': 658824, 'Criminal: Spain': 3078634, 'Criminal: UK': 2721398, 'Daddy Issues': 2119035, \"Inside Bill's Brain: Decoding Bill Gates\": 1755104, 'The Hockey Girls': 2000507, 'Travel Mates 2': 707260, 'True: Tricky Treat Day': 3213199, 'Two Sentence Horror Stories': 2438329, 'Mad World': 2281773, 'Mobile Suit Gundam UC': 778879, 'The Bund': 1729892, 'The First Line': 674591, 'Maynard': 84986, 'Monkey Twins': 3277179, 'Bitcoin Heist': 1450158, 'I Am Not Madame Bovary': 2763830, 'Vincent N Roxxy': 1961810, \"Chef's Table: France\": 2065738}"
   ]
  },
  {
   "cell_type": "code",
   "execution_count": 2,
   "metadata": {},
   "outputs": [
    {
     "data": {
      "text/plain": [
       "{'The Debt Collector': 1821195,\n",
       " 'Act of Vengeance': 2804479,\n",
       " 'Paradise Lost': 2195477,\n",
       " \"Gerald's Game\": 3650626,\n",
       " 'Long Shot': 638440,\n",
       " 'Mak Cun': 1010311,\n",
       " 'Our Souls at Night': 3028705,\n",
       " 'Out of Thin Air': 2681938,\n",
       " \"Paul Hollywood's Big Continental Road Trip\": 230689,\n",
       " 'Satu Hari': 1012350,\n",
       " 'Monster High: Boo York, Boo York': 1526025,\n",
       " 'Cultivating the Seas: History and Future of the Full-Cycle Cultured Kindai Tuna': 2762103,\n",
       " 'Domino': 872663,\n",
       " 'TUNA GIRL': 2574816,\n",
       " '5CM': 2647713,\n",
       " 'Animal World': 220789,\n",
       " 'Hold the Dark': 2307432,\n",
       " 'Lessons from a School Shooting: Notes from Dunblane': 2419534,\n",
       " 'Made in Mexico': 3653712,\n",
       " 'Single': 239278,\n",
       " 'The 3rd Eye': 196138,\n",
       " 'The Sinking Of Van Der Wijck': 2831856,\n",
       " 'Two Catalonias': 1337119,\n",
       " 'Bobby Sands: 66 Days': 2005623,\n",
       " 'Bard of Blood': 744998,\n",
       " 'Deliha 2': 3638900,\n",
       " 'Dragons: Rescue Riders': 3241239,\n",
       " 'In the Shadow of the Moon': 1213329,\n",
       " 'Skylines': 1840094,\n",
       " 'Sturgill Simpson Presents Sound & Fury': 1915540,\n",
       " 'The Politician': 1019394,\n",
       " 'Weeds on Fire': 2273090,\n",
       " 'Much Loved': 3039852,\n",
       " 'Joseph: King of Dreams': 1734449,\n",
       " 'Malaal': 1926128,\n",
       " 'The Grandmaster': 2549410,\n",
       " 'The Inmate': 130965,\n",
       " 'The Hurricane Heist': 2191538,\n",
       " 'Def Comedy Jam 25': 1392697,\n",
       " 'Restless Creature: Wendy Whelan': 2474412,\n",
       " 'Print the Legend': 548250,\n",
       " 'Birders': 3478883,\n",
       " 'Furie': 2755115,\n",
       " 'Leap!': 1401638,\n",
       " 'Oh! Baby (Malayalam)': 839139,\n",
       " 'Oh! Baby (Tamil)': 2691505,\n",
       " 'USS Indianapolis: Men of Courage': 3286014,\n",
       " 'A Wrinkle in Time': 1258861,\n",
       " 'Teach Us All': 2428947,\n",
       " 'White Island': 1152905,\n",
       " 'Inside Man: Most Wanted': 2812661,\n",
       " 'Jeff Dunham: Beside Himself': 2930368,\n",
       " 'China Salesman': 3377292,\n",
       " 'Swearnet: The Movie': 949689,\n",
       " 'The Bar': 620655,\n",
       " 'Manmadhudu 2': 1842761,\n",
       " 'Team Kaylie': 359856,\n",
       " 'Under the Eiffel Tower': 2298237,\n",
       " 'Audrie & Daisy': 1573055,\n",
       " 'Iliza Shlesinger: Confirmed Kills': 365220,\n",
       " 'BONDING': 1664242,\n",
       " 'Do Paise Ki Dhoop Chaar Aane Ki Baarish': 2770879,\n",
       " '20 Feet From Stardom': 2931730,\n",
       " 'In Darkness': 3248749,\n",
       " 'Gaga: Five Foot Two': 3719550,\n",
       " 'The Bad Batch': 3656264,\n",
       " 'SMOSH: The Movie': 3697506,\n",
       " 'King of Boys': 584112,\n",
       " 'Merry Men: The Real Yoruba Demons': 2035595,\n",
       " \"Sarah's Key\": 1337902,\n",
       " 'The Wedding Party 2: Destination Dubai': 1471204,\n",
       " 'Vagabond': 1600432,\n",
       " 'Battlefish': 723021,\n",
       " 'DRAGON PILOT: Hisone & Masotan': 602919,\n",
       " 'Hilda': 54948,\n",
       " 'Maniac': 1348196,\n",
       " 'Quincy': 2601704,\n",
       " 'Rafinha Bastos: Ultimatum': 3469996,\n",
       " 'The Good Cop': 2265521,\n",
       " 'Between Two Ferns: The Movie': 3146508,\n",
       " 'Criminal: France': 2021409,\n",
       " 'Criminal: Germany': 658824,\n",
       " 'Criminal: Spain': 3078634,\n",
       " 'Criminal: UK': 2721398,\n",
       " 'Daddy Issues': 2119035,\n",
       " \"Inside Bill's Brain: Decoding Bill Gates\": 1755104,\n",
       " 'The Hockey Girls': 2000507,\n",
       " 'Travel Mates 2': 707260,\n",
       " 'True: Tricky Treat Day': 3213199,\n",
       " 'Two Sentence Horror Stories': 2438329,\n",
       " 'Mad World': 2281773,\n",
       " 'Mobile Suit Gundam UC': 778879,\n",
       " 'The Bund': 1729892,\n",
       " 'The First Line': 674591,\n",
       " 'Maynard': 84986,\n",
       " 'Monkey Twins': 3277179,\n",
       " 'Bitcoin Heist': 1450158,\n",
       " 'I Am Not Madame Bovary': 2763830,\n",
       " 'Vincent N Roxxy': 1961810,\n",
       " \"Chef's Table: France\": 2065738}"
      ]
     },
     "execution_count": 2,
     "metadata": {},
     "output_type": "execute_result"
    }
   ],
   "source": [
    "netflix"
   ]
  },
  {
   "cell_type": "markdown",
   "metadata": {},
   "source": [
    "#### Q1. There's an Indian movie in the dictionary named `Do Paise Ki Dhoop Chaar Aane Ki Baarish`. What is the number of views for this movie?\n",
    "- 90,854\n",
    "- 658,824\n",
    "- 1,023,597\n",
    "- 2,770,879"
   ]
  },
  {
   "cell_type": "code",
   "execution_count": 3,
   "metadata": {},
   "outputs": [
    {
     "data": {
      "text/plain": [
       "2770879"
      ]
     },
     "execution_count": 3,
     "metadata": {},
     "output_type": "execute_result"
    }
   ],
   "source": [
    "netflix[\"Do Paise Ki Dhoop Chaar Aane Ki Baarish\"]"
   ]
  },
  {
   "cell_type": "markdown",
   "metadata": {},
   "source": [
    "#### Q2. Which of the shows is the most and least popular in terms of number of views? </br> \n",
    "(Hint: Use the `key` argument in the max() and min() functions.)\n",
    "- Monkey Twins, Maynard\n",
    "- Gaga: Five Foot Two, Hilda\n",
    "- Gerald's Game, White Island\n",
    "- Rafinha Bastos: Ultimatum, The First Line"
   ]
  },
  {
   "cell_type": "code",
   "execution_count": 17,
   "metadata": {},
   "outputs": [
    {
     "name": "stdout",
     "output_type": "stream",
     "text": [
      "Minimum views: ['Hilda']\n",
      "Maximum Views: ['Gaga: Five Foot Two']\n"
     ]
    }
   ],
   "source": [
    "min_views = []\n",
    "for i in netflix:\n",
    "    if netflix[i] == 54948:\n",
    "        min_views.append(i)\n",
    "print(\"Minimum views:\",min_views)\n",
    "\n",
    "max_views = []\n",
    "for i in netflix:\n",
    "    if netflix[i] == 3719550:\n",
    "        max_views.append(i)\n",
    "print(\"Maximum Views:\",max_views)"
   ]
  },
  {
   "cell_type": "code",
   "execution_count": 11,
   "metadata": {},
   "outputs": [
    {
     "name": "stdout",
     "output_type": "stream",
     "text": [
      "304552\n",
      "Deliha 2\n",
      "5448\n",
      "Battlefish\n"
     ]
    }
   ],
   "source": [
    "netflix_last_week = {'The Debt Collector': 229218, 'Act of Vengeance': 191468, 'Paradise Lost': 167846, \"Gerald's Game\": 113298, 'Long Shot': 15190, 'Mak Cun': 244581, 'Our Souls at Night': 188095, 'Out of Thin Air': 183961, \"Paul Hollywood's Big Continental Road Trip\": 207967, 'Satu Hari': 226211, 'Monster High: Boo York, Boo York': 265919, 'Cultivating the Seas: History and Future of the Full-Cycle Cultured Kindai Tuna': 192246, 'Domino': 190538, 'TUNA GIRL': 301819, '5CM': 154371, 'Animal World': 228227, 'Hold the Dark': 222938, 'Lessons from a School Shooting: Notes from Dunblane': 256580, 'Made in Mexico': 199790, 'Single': 155517, 'The 3rd Eye': 251349, 'The Sinking Of Van Der Wijck': 153797, 'Two Catalonias': 189422, 'Bobby Sands: 66 Days': 202461, 'Bard of Blood': 241928, 'Deliha 2': 304552, 'Dragons: Rescue Riders': 155149, 'In the Shadow of the Moon': 222999, 'Skylines': 118737, 'Sturgill Simpson Presents Sound & Fury': 43590, 'The Politician': 11902, 'Weeds on Fire': 243382, 'Much Loved': 190123, 'Joseph: King of Dreams': 46104, 'Malaal': 70961, 'The Grandmaster': 44908, 'The Inmate': 19574, 'The Hurricane Heist': 167696, 'Def Comedy Jam 25': 208075, 'Restless Creature: Wendy Whelan': 22976, 'Print the Legend': 161584, 'Birders': 257668, 'Furie': 282266, 'Leap!': 124338, 'Oh! Baby (Malayalam)': 18203, 'Oh! Baby (Tamil)': 131481, 'USS Indianapolis: Men of Courage': 76558, 'A Wrinkle in Time': 169365, 'Teach Us All': 50378, 'White Island': 299779, 'Inside Man: Most Wanted': 123346, 'Jeff Dunham: Beside Himself': 283561, 'China Salesman': 182041, 'Swearnet: The Movie': 63809, 'The Bar': 41243, 'Manmadhudu 2': 261349, 'Team Kaylie': 101283, 'Under the Eiffel Tower': 83650, 'Audrie & Daisy': 106092, 'Iliza Shlesinger: Confirmed Kills': 255103, 'BONDING': 202683, 'Do Paise Ki Dhoop Chaar Aane Ki Baarish': 32329, '20 Feet From Stardom': 165178, 'In Darkness': 95259, 'Gaga: Five Foot Two': 36638, 'The Bad Batch': 197820, 'SMOSH: The Movie': 196519, 'King of Boys': 49332, 'Merry Men: The Real Yoruba Demons': 293229, \"Sarah's Key\": 178523, 'The Wedding Party 2: Destination Dubai': 51211, 'Vagabond': 116831, 'Battlefish': 5448, 'DRAGON PILOT: Hisone & Masotan': 281873, 'Hilda': 21348, 'Maniac': 268187, 'Quincy': 139696, 'Rafinha Bastos: Ultimatum': 105449, 'The Good Cop': 73230, 'Between Two Ferns: The Movie': 135600, 'Criminal: France': 243469, 'Criminal: Germany': 285211, 'Criminal: Spain': 45184, 'Criminal: UK': 117056, 'Daddy Issues': 267329, \"Inside Bill's Brain: Decoding Bill Gates\": 64083, 'The Hockey Girls': 114146, 'Travel Mates 2': 21088, 'True: Tricky Treat Day': 116504, 'Two Sentence Horror Stories': 274471, 'Mad World': 225244, 'Mobile Suit Gundam UC': 47306, 'The Bund': 146872, 'The First Line': 148861, 'Maynard': 87252, 'Monkey Twins': 199274, 'Bitcoin Heist': 41105, 'I Am Not Madame Bovary': 57841, 'Vincent N Roxxy': 207453, \"Chef's Table: France\": 200536}\n",
    "\n",
    "max = 0\n",
    "for i ,j in netflix_last_week.items():\n",
    "    if(j > max):\n",
    "        max = j\n",
    "print(max)\n",
    "for i,j in netflix_last_week.items():\n",
    "    if(j == max):\n",
    "        print(i)\n",
    "        \n",
    "     \n",
    "    \n",
    "min = netflix_last_week[\"The Debt Collector\"]\n",
    "for i ,j in netflix_last_week.items():\n",
    "    if(j < min):\n",
    "        min = j\n",
    "print(min)\n",
    "for i,j in netflix_last_week.items():\n",
    "    if(j == min):\n",
    "        print(i)"
   ]
  },
  {
   "cell_type": "markdown",
   "metadata": {},
   "source": [
    "Netflix has just recieved the number of views for the last week as well. This data is given below, in the form of a dictionary"
   ]
  },
  {
   "cell_type": "code",
   "execution_count": 9,
   "metadata": {},
   "outputs": [],
   "source": [
    "netflix_last_week = {'The Debt Collector': 229218, 'Act of Vengeance': 191468, 'Paradise Lost': 167846, \"Gerald's Game\": 113298, 'Long Shot': 15190, 'Mak Cun': 244581, 'Our Souls at Night': 188095, 'Out of Thin Air': 183961, \"Paul Hollywood's Big Continental Road Trip\": 207967, 'Satu Hari': 226211, 'Monster High: Boo York, Boo York': 265919, 'Cultivating the Seas: History and Future of the Full-Cycle Cultured Kindai Tuna': 192246, 'Domino': 190538, 'TUNA GIRL': 301819, '5CM': 154371, 'Animal World': 228227, 'Hold the Dark': 222938, 'Lessons from a School Shooting: Notes from Dunblane': 256580, 'Made in Mexico': 199790, 'Single': 155517, 'The 3rd Eye': 251349, 'The Sinking Of Van Der Wijck': 153797, 'Two Catalonias': 189422, 'Bobby Sands: 66 Days': 202461, 'Bard of Blood': 241928, 'Deliha 2': 304552, 'Dragons: Rescue Riders': 155149, 'In the Shadow of the Moon': 222999, 'Skylines': 118737, 'Sturgill Simpson Presents Sound & Fury': 43590, 'The Politician': 11902, 'Weeds on Fire': 243382, 'Much Loved': 190123, 'Joseph: King of Dreams': 46104, 'Malaal': 70961, 'The Grandmaster': 44908, 'The Inmate': 19574, 'The Hurricane Heist': 167696, 'Def Comedy Jam 25': 208075, 'Restless Creature: Wendy Whelan': 22976, 'Print the Legend': 161584, 'Birders': 257668, 'Furie': 282266, 'Leap!': 124338, 'Oh! Baby (Malayalam)': 18203, 'Oh! Baby (Tamil)': 131481, 'USS Indianapolis: Men of Courage': 76558, 'A Wrinkle in Time': 169365, 'Teach Us All': 50378, 'White Island': 299779, 'Inside Man: Most Wanted': 123346, 'Jeff Dunham: Beside Himself': 283561, 'China Salesman': 182041, 'Swearnet: The Movie': 63809, 'The Bar': 41243, 'Manmadhudu 2': 261349, 'Team Kaylie': 101283, 'Under the Eiffel Tower': 83650, 'Audrie & Daisy': 106092, 'Iliza Shlesinger: Confirmed Kills': 255103, 'BONDING': 202683, 'Do Paise Ki Dhoop Chaar Aane Ki Baarish': 32329, '20 Feet From Stardom': 165178, 'In Darkness': 95259, 'Gaga: Five Foot Two': 36638, 'The Bad Batch': 197820, 'SMOSH: The Movie': 196519, 'King of Boys': 49332, 'Merry Men: The Real Yoruba Demons': 293229, \"Sarah's Key\": 178523, 'The Wedding Party 2: Destination Dubai': 51211, 'Vagabond': 116831, 'Battlefish': 5448, 'DRAGON PILOT: Hisone & Masotan': 281873, 'Hilda': 21348, 'Maniac': 268187, 'Quincy': 139696, 'Rafinha Bastos: Ultimatum': 105449, 'The Good Cop': 73230, 'Between Two Ferns: The Movie': 135600, 'Criminal: France': 243469, 'Criminal: Germany': 285211, 'Criminal: Spain': 45184, 'Criminal: UK': 117056, 'Daddy Issues': 267329, \"Inside Bill's Brain: Decoding Bill Gates\": 64083, 'The Hockey Girls': 114146, 'Travel Mates 2': 21088, 'True: Tricky Treat Day': 116504, 'Two Sentence Horror Stories': 274471, 'Mad World': 225244, 'Mobile Suit Gundam UC': 47306, 'The Bund': 146872, 'The First Line': 148861, 'Maynard': 87252, 'Monkey Twins': 199274, 'Bitcoin Heist': 41105, 'I Am Not Madame Bovary': 57841, 'Vincent N Roxxy': 207453, \"Chef's Table: France\": 200536}"
   ]
  },
  {
   "cell_type": "code",
   "execution_count": 13,
   "metadata": {},
   "outputs": [
    {
     "data": {
      "text/plain": [
       "{'The Debt Collector': 229218,\n",
       " 'Act of Vengeance': 191468,\n",
       " 'Paradise Lost': 167846,\n",
       " \"Gerald's Game\": 113298,\n",
       " 'Long Shot': 15190,\n",
       " 'Mak Cun': 244581,\n",
       " 'Our Souls at Night': 188095,\n",
       " 'Out of Thin Air': 183961,\n",
       " \"Paul Hollywood's Big Continental Road Trip\": 207967,\n",
       " 'Satu Hari': 226211,\n",
       " 'Monster High: Boo York, Boo York': 265919,\n",
       " 'Cultivating the Seas: History and Future of the Full-Cycle Cultured Kindai Tuna': 192246,\n",
       " 'Domino': 190538,\n",
       " 'TUNA GIRL': 301819,\n",
       " '5CM': 154371,\n",
       " 'Animal World': 228227,\n",
       " 'Hold the Dark': 222938,\n",
       " 'Lessons from a School Shooting: Notes from Dunblane': 256580,\n",
       " 'Made in Mexico': 199790,\n",
       " 'Single': 155517,\n",
       " 'The 3rd Eye': 251349,\n",
       " 'The Sinking Of Van Der Wijck': 153797,\n",
       " 'Two Catalonias': 189422,\n",
       " 'Bobby Sands: 66 Days': 202461,\n",
       " 'Bard of Blood': 241928,\n",
       " 'Deliha 2': 4248004,\n",
       " 'Dragons: Rescue Riders': 4151537,\n",
       " 'In the Shadow of the Moon': 222999,\n",
       " 'Skylines': 118737,\n",
       " 'Sturgill Simpson Presents Sound & Fury': 43590,\n",
       " 'The Politician': 11902,\n",
       " 'Weeds on Fire': 243382,\n",
       " 'Much Loved': 190123,\n",
       " 'Joseph: King of Dreams': 46104,\n",
       " 'Malaal': 70961,\n",
       " 'The Grandmaster': 44908,\n",
       " 'The Inmate': 19574,\n",
       " 'The Hurricane Heist': 167696,\n",
       " 'Def Comedy Jam 25': 208075,\n",
       " 'Restless Creature: Wendy Whelan': 22976,\n",
       " 'Print the Legend': 161584,\n",
       " 'Birders': 257668,\n",
       " 'Furie': 282266,\n",
       " 'Leap!': 124338,\n",
       " 'Oh! Baby (Malayalam)': 18203,\n",
       " 'Oh! Baby (Tamil)': 131481,\n",
       " 'USS Indianapolis: Men of Courage': 76558,\n",
       " 'A Wrinkle in Time': 169365,\n",
       " 'Teach Us All': 50378,\n",
       " 'White Island': 299779,\n",
       " 'Inside Man: Most Wanted': 123346,\n",
       " 'Jeff Dunham: Beside Himself': 283561,\n",
       " 'China Salesman': 182041,\n",
       " 'Swearnet: The Movie': 63809,\n",
       " 'The Bar': 41243,\n",
       " 'Manmadhudu 2': 261349,\n",
       " 'Team Kaylie': 101283,\n",
       " 'Under the Eiffel Tower': 83650,\n",
       " 'Audrie & Daisy': 106092,\n",
       " 'Iliza Shlesinger: Confirmed Kills': 255103,\n",
       " 'BONDING': 202683,\n",
       " 'Do Paise Ki Dhoop Chaar Aane Ki Baarish': 32329,\n",
       " '20 Feet From Stardom': 165178,\n",
       " 'In Darkness': 95259,\n",
       " 'Gaga: Five Foot Two': 3792826,\n",
       " 'The Bad Batch': 197820,\n",
       " 'SMOSH: The Movie': 196519,\n",
       " 'King of Boys': 49332,\n",
       " 'Merry Men: The Real Yoruba Demons': 293229,\n",
       " \"Sarah's Key\": 178523,\n",
       " 'The Wedding Party 2: Destination Dubai': 51211,\n",
       " 'Vagabond': 116831,\n",
       " 'Battlefish': 5448,\n",
       " 'DRAGON PILOT: Hisone & Masotan': 281873,\n",
       " 'Hilda': 21348,\n",
       " 'Maniac': 268187,\n",
       " 'Quincy': 139696,\n",
       " 'Rafinha Bastos: Ultimatum': 3680894,\n",
       " 'The Good Cop': 73230,\n",
       " 'Between Two Ferns: The Movie': 135600,\n",
       " 'Criminal: France': 243469,\n",
       " 'Criminal: Germany': 285211,\n",
       " 'Criminal: Spain': 45184,\n",
       " 'Criminal: UK': 117056,\n",
       " 'Daddy Issues': 267329,\n",
       " \"Inside Bill's Brain: Decoding Bill Gates\": 64083,\n",
       " 'The Hockey Girls': 114146,\n",
       " 'Travel Mates 2': 21088,\n",
       " 'True: Tricky Treat Day': 116504,\n",
       " 'Two Sentence Horror Stories': 274471,\n",
       " 'Mad World': 225244,\n",
       " 'Mobile Suit Gundam UC': 47306,\n",
       " 'The Bund': 146872,\n",
       " 'The First Line': 148861,\n",
       " 'Maynard': 87252,\n",
       " 'Monkey Twins': 199274,\n",
       " 'Bitcoin Heist': 41105,\n",
       " 'I Am Not Madame Bovary': 57841,\n",
       " 'Vincent N Roxxy': 207453,\n",
       " \"Chef's Table: France\": 200536}"
      ]
     },
     "execution_count": 13,
     "metadata": {},
     "output_type": "execute_result"
    }
   ],
   "source": [
    "netflix_last_week"
   ]
  },
  {
   "cell_type": "markdown",
   "metadata": {},
   "source": [
    "#### Q3. Netflix has just recieved the number of views for the last week as well. Add these views to the total views and find the most popular title in terms of views. Also find out how many views this title has? \n",
    "- Title: Deliha 2, Views: 3943452\n",
    "- Title: Dragons: Rescue Riders, Views: 3996388\n",
    "- Title: Rafinha Bastos: Ultimatum, Views: 3575445\n",
    "- Title: Gaga: Five Foot Two, Views: 3756188"
   ]
  },
  {
   "cell_type": "code",
   "execution_count": 16,
   "metadata": {},
   "outputs": [
    {
     "name": "stdout",
     "output_type": "stream",
     "text": [
      "found1\n",
      "found2\n",
      "found4\n",
      "found3\n"
     ]
    },
    {
     "data": {
      "text/plain": [
       "{'The Debt Collector': 229218,\n",
       " 'Act of Vengeance': 191468,\n",
       " 'Paradise Lost': 167846,\n",
       " \"Gerald's Game\": 113298,\n",
       " 'Long Shot': 15190,\n",
       " 'Mak Cun': 244581,\n",
       " 'Our Souls at Night': 188095,\n",
       " 'Out of Thin Air': 183961,\n",
       " \"Paul Hollywood's Big Continental Road Trip\": 207967,\n",
       " 'Satu Hari': 226211,\n",
       " 'Monster High: Boo York, Boo York': 265919,\n",
       " 'Cultivating the Seas: History and Future of the Full-Cycle Cultured Kindai Tuna': 192246,\n",
       " 'Domino': 190538,\n",
       " 'TUNA GIRL': 301819,\n",
       " '5CM': 154371,\n",
       " 'Animal World': 228227,\n",
       " 'Hold the Dark': 222938,\n",
       " 'Lessons from a School Shooting: Notes from Dunblane': 256580,\n",
       " 'Made in Mexico': 199790,\n",
       " 'Single': 155517,\n",
       " 'The 3rd Eye': 251349,\n",
       " 'The Sinking Of Van Der Wijck': 153797,\n",
       " 'Two Catalonias': 189422,\n",
       " 'Bobby Sands: 66 Days': 202461,\n",
       " 'Bard of Blood': 241928,\n",
       " 'Deliha 2': 12134908,\n",
       " 'Dragons: Rescue Riders': 12144313,\n",
       " 'In the Shadow of the Moon': 222999,\n",
       " 'Skylines': 118737,\n",
       " 'Sturgill Simpson Presents Sound & Fury': 43590,\n",
       " 'The Politician': 11902,\n",
       " 'Weeds on Fire': 243382,\n",
       " 'Much Loved': 190123,\n",
       " 'Joseph: King of Dreams': 46104,\n",
       " 'Malaal': 70961,\n",
       " 'The Grandmaster': 44908,\n",
       " 'The Inmate': 19574,\n",
       " 'The Hurricane Heist': 167696,\n",
       " 'Def Comedy Jam 25': 208075,\n",
       " 'Restless Creature: Wendy Whelan': 22976,\n",
       " 'Print the Legend': 161584,\n",
       " 'Birders': 257668,\n",
       " 'Furie': 282266,\n",
       " 'Leap!': 124338,\n",
       " 'Oh! Baby (Malayalam)': 18203,\n",
       " 'Oh! Baby (Tamil)': 131481,\n",
       " 'USS Indianapolis: Men of Courage': 76558,\n",
       " 'A Wrinkle in Time': 169365,\n",
       " 'Teach Us All': 50378,\n",
       " 'White Island': 299779,\n",
       " 'Inside Man: Most Wanted': 123346,\n",
       " 'Jeff Dunham: Beside Himself': 283561,\n",
       " 'China Salesman': 182041,\n",
       " 'Swearnet: The Movie': 63809,\n",
       " 'The Bar': 41243,\n",
       " 'Manmadhudu 2': 261349,\n",
       " 'Team Kaylie': 101283,\n",
       " 'Under the Eiffel Tower': 83650,\n",
       " 'Audrie & Daisy': 106092,\n",
       " 'Iliza Shlesinger: Confirmed Kills': 255103,\n",
       " 'BONDING': 202683,\n",
       " 'Do Paise Ki Dhoop Chaar Aane Ki Baarish': 32329,\n",
       " '20 Feet From Stardom': 165178,\n",
       " 'In Darkness': 95259,\n",
       " 'Gaga: Five Foot Two': 11305202,\n",
       " 'The Bad Batch': 197820,\n",
       " 'SMOSH: The Movie': 196519,\n",
       " 'King of Boys': 49332,\n",
       " 'Merry Men: The Real Yoruba Demons': 293229,\n",
       " \"Sarah's Key\": 178523,\n",
       " 'The Wedding Party 2: Destination Dubai': 51211,\n",
       " 'Vagabond': 116831,\n",
       " 'Battlefish': 5448,\n",
       " 'DRAGON PILOT: Hisone & Masotan': 281873,\n",
       " 'Hilda': 21348,\n",
       " 'Maniac': 268187,\n",
       " 'Quincy': 139696,\n",
       " 'Rafinha Bastos: Ultimatum': 10831784,\n",
       " 'The Good Cop': 73230,\n",
       " 'Between Two Ferns: The Movie': 135600,\n",
       " 'Criminal: France': 243469,\n",
       " 'Criminal: Germany': 285211,\n",
       " 'Criminal: Spain': 45184,\n",
       " 'Criminal: UK': 117056,\n",
       " 'Daddy Issues': 267329,\n",
       " \"Inside Bill's Brain: Decoding Bill Gates\": 64083,\n",
       " 'The Hockey Girls': 114146,\n",
       " 'Travel Mates 2': 21088,\n",
       " 'True: Tricky Treat Day': 116504,\n",
       " 'Two Sentence Horror Stories': 274471,\n",
       " 'Mad World': 225244,\n",
       " 'Mobile Suit Gundam UC': 47306,\n",
       " 'The Bund': 146872,\n",
       " 'The First Line': 148861,\n",
       " 'Maynard': 87252,\n",
       " 'Monkey Twins': 199274,\n",
       " 'Bitcoin Heist': 41105,\n",
       " 'I Am Not Madame Bovary': 57841,\n",
       " 'Vincent N Roxxy': 207453,\n",
       " \"Chef's Table: France\": 200536}"
      ]
     },
     "execution_count": 16,
     "metadata": {},
     "output_type": "execute_result"
    }
   ],
   "source": [
    "for i,j in netflix_last_week.items():\n",
    "    if(i == \"Deliha 2\"):\n",
    "        netflix_last_week[i]= j+3943452\n",
    "        print(\"found1\")\n",
    "    if(i == \"Dragons: Rescue Riders\"):\n",
    "        netflix_last_week[i]= j+3996388\n",
    "        print(\"found2\")\n",
    "    if(i == \"Rafinha Bastos: Ultimatum\"):\n",
    "        netflix_last_week[i]= j+3575445\n",
    "        print(\"found3\")\n",
    "    if(i == \"Gaga: Five Foot Two\"):\n",
    "        netflix_last_week[i]=j+3756188\n",
    "        print(\"found4\")\n",
    "netflix_last_week\n"
   ]
  },
  {
   "cell_type": "code",
   "execution_count": 15,
   "metadata": {},
   "outputs": [
    {
     "name": "stdout",
     "output_type": "stream",
     "text": [
      "8191456\n",
      "Deliha 2\n"
     ]
    }
   ],
   "source": [
    "max = 0\n",
    "for i ,j in netflix_last_week.items():\n",
    "    if(j > max):\n",
    "        max = j\n",
    "print(max)\n",
    "for i,j in netflix_last_week.items():\n",
    "    if(j == max):\n",
    "        print(i)"
   ]
  },
  {
   "cell_type": "code",
   "execution_count": null,
   "metadata": {},
   "outputs": [],
   "source": []
  }
 ],
 "metadata": {
  "kernelspec": {
   "display_name": "Python 3 (ipykernel)",
   "language": "python",
   "name": "python3"
  },
  "language_info": {
   "codemirror_mode": {
    "name": "ipython",
    "version": 3
   },
   "file_extension": ".py",
   "mimetype": "text/x-python",
   "name": "python",
   "nbconvert_exporter": "python",
   "pygments_lexer": "ipython3",
   "version": "3.11.4"
  }
 },
 "nbformat": 4,
 "nbformat_minor": 2
}
